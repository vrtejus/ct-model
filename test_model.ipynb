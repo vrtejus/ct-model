{
 "cells": [
  {
   "cell_type": "code",
   "execution_count": 1,
   "metadata": {},
   "outputs": [
    {
     "name": "stdout",
     "output_type": "stream",
     "text": [
      "Requirement already satisfied: torch in /Library/Frameworks/Python.framework/Versions/3.11/lib/python3.11/site-packages (2.1.0)\n",
      "Requirement already satisfied: filelock in /Library/Frameworks/Python.framework/Versions/3.11/lib/python3.11/site-packages (from torch) (3.12.4)\n",
      "Requirement already satisfied: typing-extensions in /Library/Frameworks/Python.framework/Versions/3.11/lib/python3.11/site-packages (from torch) (4.12.2)\n",
      "Requirement already satisfied: sympy in /Library/Frameworks/Python.framework/Versions/3.11/lib/python3.11/site-packages (from torch) (1.12)\n",
      "Requirement already satisfied: networkx in /Library/Frameworks/Python.framework/Versions/3.11/lib/python3.11/site-packages (from torch) (3.1)\n",
      "Requirement already satisfied: jinja2 in /Library/Frameworks/Python.framework/Versions/3.11/lib/python3.11/site-packages (from torch) (3.1.2)\n",
      "Requirement already satisfied: fsspec in /Library/Frameworks/Python.framework/Versions/3.11/lib/python3.11/site-packages (from torch) (2023.6.0)\n",
      "Requirement already satisfied: MarkupSafe>=2.0 in /Library/Frameworks/Python.framework/Versions/3.11/lib/python3.11/site-packages (from jinja2->torch) (2.1.3)\n",
      "Requirement already satisfied: mpmath>=0.19 in /Library/Frameworks/Python.framework/Versions/3.11/lib/python3.11/site-packages (from sympy->torch) (1.3.0)\n"
     ]
    }
   ],
   "source": [
    "!pip install torch\n"
   ]
  },
  {
   "cell_type": "code",
   "execution_count": 2,
   "metadata": {},
   "outputs": [],
   "source": [
    "import torch\n",
    "import os\n",
    "\n",
    "def validate_checkpoint(file_path):\n",
    "    print(f\"\\nValidating: {file_path}\")\n",
    "    print(f\"File size: {os.path.getsize(file_path) / (1024*1024):.2f} MB\")\n",
    "    \n",
    "    try:\n",
    "        # Try loading with weights_only first (safer)\n",
    "        print(\"Attempting to load checkpoint...\")\n",
    "        checkpoint = torch.load(file_path, map_location='cpu', weights_only=True)\n",
    "        \n",
    "        # Print basic info about the checkpoint\n",
    "        if isinstance(checkpoint, dict):\n",
    "            print(\"Successfully loaded! Checkpoint contains keys:\", list(checkpoint.keys()))\n",
    "            if 'model_state_dict' in checkpoint:\n",
    "                print(\"Number of parameters:\", len(checkpoint['model_state_dict']))\n",
    "        else:\n",
    "            print(\"Successfully loaded! Checkpoint is not a dictionary type.\")\n",
    "            \n",
    "        return True\n",
    "        \n",
    "    except Exception as e:\n",
    "        print(f\"Error loading checkpoint: {str(e)}\")\n",
    "        return False\n",
    "\n",
    "def main():\n",
    "    files_to_check = [\n",
    "        \"/Users/ammachi/Downloads/nano_text_encoder.pth\",\n",
    "        \"/Users/ammachi/Downloads/nano.pth\"\n",
    "    ]\n",
    "    \n",
    "    for file_path in files_to_check:\n",
    "        if os.path.exists(file_path):\n",
    "            validate_checkpoint(file_path)\n",
    "        else:\n",
    "            print(f\"\\nFile not found: {file_path}\")"
   ]
  },
  {
   "cell_type": "code",
   "execution_count": null,
   "metadata": {},
   "outputs": [],
   "source": [
    "main()"
   ]
  }
 ],
 "metadata": {
  "kernelspec": {
   "display_name": "Python 3",
   "language": "python",
   "name": "python3"
  },
  "language_info": {
   "codemirror_mode": {
    "name": "ipython",
    "version": 3
   },
   "file_extension": ".py",
   "mimetype": "text/x-python",
   "name": "python",
   "nbconvert_exporter": "python",
   "pygments_lexer": "ipython3",
   "version": "3.11.4"
  }
 },
 "nbformat": 4,
 "nbformat_minor": 2
}
