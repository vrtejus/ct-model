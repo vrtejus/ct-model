{
 "cells": [
  {
   "cell_type": "code",
   "execution_count": 3,
   "metadata": {},
   "outputs": [
    {
     "data": {
      "application/vnd.jupyter.widget-view+json": {
       "model_id": "cfcfb23fa9554bc98082d48108e0cc16",
       "version_major": 2,
       "version_minor": 0
      },
      "text/plain": [
       "Calculating total size:   0%|          | 0/107 [00:00<?, ?file/s]"
      ]
     },
     "metadata": {},
     "output_type": "display_data"
    },
    {
     "name": "stdout",
     "output_type": "stream",
     "text": [
      "\n",
      "Preparing to download 107 files, total size: 0.0GB\n"
     ]
    },
    {
     "data": {
      "application/vnd.jupyter.widget-view+json": {
       "model_id": "8c395284d0144b779acf2a803b90f03d",
       "version_major": 2,
       "version_minor": 0
      },
      "text/plain": [
       "Downloading files:   0%|          | 0/107 [00:00<?, ?file/s]"
      ]
     },
     "metadata": {},
     "output_type": "display_data"
    }
   ],
   "source": [
    "import shutil\n",
    "import os\n",
    "\n",
    "# Remove existing repository if it exists\n",
    "if os.path.exists('./CT-RATE-new'):\n",
    "    shutil.rmtree('./CT-RATE-new')\n",
    "\n",
    "# Reload and run\n",
    "from importlib import reload\n",
    "import ct_rate_downloader\n",
    "reload(ct_rate_downloader)\n",
    "from ct_rate_downloader import CTRateDownloader\n",
    "\n",
    "downloader = CTRateDownloader(size_limit_gb=20)\n",
    "downloader.run(nth_file=500)"
   ]
  },
  {
   "cell_type": "code",
   "execution_count": 16,
   "metadata": {},
   "outputs": [
    {
     "name": "stdout",
     "output_type": "stream",
     "text": [
      "./CT-RATE-new/dataset/valid/valid_803/valid_803_a/valid_803_a_2.nii.gz\n",
      "./CT-RATE-new/dataset/valid/valid_803/valid_803_a/valid_803_a_1.nii.gz\n",
      "./CT-RATE-new/dataset/valid/valid_1232/valid_1232_a/valid_1232_a_2.nii.gz\n",
      "./CT-RATE-new/dataset/valid/valid_1232/valid_1232_a/valid_1232_a_1.nii.gz\n",
      "./CT-RATE-new/dataset/valid/valid_1000/valid_1000_a/valid_1000_a_1.nii.gz\n",
      "find: stdout: Undefined error: 0\n"
     ]
    }
   ],
   "source": [
    "!find ./CT-RATE-new -name \"*.nii.gz\" | head -n 5\n",
    "\n"
   ]
  },
  {
   "cell_type": "code",
   "execution_count": null,
   "metadata": {},
   "outputs": [],
   "source": []
  }
 ],
 "metadata": {
  "kernelspec": {
   "display_name": "Python 3",
   "language": "python",
   "name": "python3"
  },
  "language_info": {
   "codemirror_mode": {
    "name": "ipython",
    "version": 3
   },
   "file_extension": ".py",
   "mimetype": "text/x-python",
   "name": "python",
   "nbconvert_exporter": "python",
   "pygments_lexer": "ipython3",
   "version": "3.11.4"
  }
 },
 "nbformat": 4,
 "nbformat_minor": 2
}
